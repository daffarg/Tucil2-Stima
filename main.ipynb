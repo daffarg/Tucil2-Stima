{
 "cells": [
  {
   "cell_type": "code",
   "execution_count": 13,
   "metadata": {},
   "outputs": [
    {
     "name": "stdout",
     "output_type": "stream",
     "text": [
      "[[5.1 3.5]\n",
      " [4.9 3. ]\n",
      " [4.7 3.2]\n",
      " [4.6 3.1]\n",
      " [5.  3.6]\n",
      " [5.4 3.9]\n",
      " [4.6 3.4]\n",
      " [5.  3.4]\n",
      " [4.4 2.9]\n",
      " [4.9 3.1]\n",
      " [5.4 3.7]\n",
      " [4.8 3.4]\n",
      " [4.8 3. ]\n",
      " [4.3 3. ]\n",
      " [5.8 4. ]\n",
      " [5.7 4.4]\n",
      " [5.4 3.9]\n",
      " [5.1 3.5]\n",
      " [5.7 3.8]\n",
      " [5.1 3.8]\n",
      " [5.4 3.4]\n",
      " [5.1 3.7]\n",
      " [4.6 3.6]\n",
      " [5.1 3.3]\n",
      " [4.8 3.4]\n",
      " [5.  3. ]\n",
      " [5.  3.4]\n",
      " [5.2 3.5]\n",
      " [5.2 3.4]\n",
      " [4.7 3.2]\n",
      " [4.8 3.1]\n",
      " [5.4 3.4]\n",
      " [5.2 4.1]\n",
      " [5.5 4.2]\n",
      " [4.9 3.1]\n",
      " [5.  3.2]\n",
      " [5.5 3.5]\n",
      " [4.9 3.6]\n",
      " [4.4 3. ]\n",
      " [5.1 3.4]\n",
      " [5.  3.5]\n",
      " [4.5 2.3]\n",
      " [4.4 3.2]\n",
      " [5.  3.5]\n",
      " [5.1 3.8]\n",
      " [4.8 3. ]\n",
      " [5.1 3.8]\n",
      " [4.6 3.2]\n",
      " [5.3 3.7]\n",
      " [5.  3.3]]\n"
     ]
    }
   ],
   "source": [
    "import numpy as np\n",
    "import pandas as pd\n",
    "import matplotlib.pyplot as plt\n",
    "from sklearn import datasets\n",
    "from scipy.spatial import ConvexHull\n",
    "\n",
    "data = datasets.load_iris()\n",
    "#create a DataFrame\n",
    "df = pd.DataFrame(data.data, columns=data.feature_names)\n",
    "df['Target'] = pd.DataFrame(data.target)\n",
    "# kolom target adalah nama2 bunga --> data.target_names = ['setosa' 'versicolor' 'virginica']\n",
    "\n",
    "bucket = df[df['Target'] == 0] # membagi 3 dataset iris sesuai target (0, 1, 2)\n",
    "bucket = bucket.iloc[:,[0,1]].values # mengambil atribut sepal width dan length lalu menjadikannya sbg array 2 dimensi\n",
    "\n",
    "def partisiMatrixAbsisBased(M):\n",
    "    '''\n",
    "        Membagi matriks M[i][n] menjadi submatriks A[i..q][n] dan A[q+1..j][n]\n",
    "        Masukan: matriks m x n dengan setiap elemennya terdiri dari 2 elemen (absis dan oordinat)\n",
    "        Keluaran: submatriks A[i..q][n] dan A[q+1..j][n] dengan\n",
    "                  A[i..q][n] lebih kecil dari A[q+1..j][n]\n",
    "    '''\n",
    "    pivot = M[(len(M) - 1) // 2][0] # ambil elemen tengah sbg pivot\n",
    "    p = 0\n",
    "    q = len(M) - 1\n",
    "    while True:\n",
    "        while (M[p][0] < pivot):\n",
    "            p += 1\n",
    "        # M[p][0] >= pivot\n",
    "        while (M[q][0] > pivot):\n",
    "            q -= 1\n",
    "        # M[p][0] >= pivot\n",
    "        if (p <= q):\n",
    "            # swap\n",
    "            temp = M[p][0]\n",
    "            M[p][0] = M[q][0]\n",
    "            M[q][0] = temp\n",
    "            p += 1\n",
    "            q -= 1\n",
    "        if (p > q):\n",
    "            break\n",
    "    return q, M\n",
    "\n",
    "print(bucket)\n",
    "# output = partisiMatrixAbsisBased(bucket)\n",
    "# print(output[0])\n",
    "# print(output[1])\n"
   ]
  },
  {
   "cell_type": "code",
   "execution_count": 14,
   "metadata": {},
   "outputs": [
    {
     "name": "stdout",
     "output_type": "stream",
     "text": [
      "[13 41 36 18 14 15 32 22]\n"
     ]
    },
    {
     "data": {
      "image/png": "[encoded data removed]",
      "text/plain": [
       "<Figure size 1440x720 with 1 Axes>"
      ]
     },
     "metadata": {
      "needs_background": "light"
     },
     "output_type": "display_data"
    }
   ],
   "source": [
    "plt.figure(figsize = (20, 10))\n",
    "colors = ['b','r','g']\n",
    "plt.title('Petal Width vs Petal Length')\n",
    "\n",
    "# set label diagram\n",
    "plt.xlabel(data.feature_names[0])\n",
    "plt.ylabel(data.feature_names[1])\n",
    "\n",
    "bucket = df[df['Target'] == 0] # membagi 3 dataset iris sesuai target (0, 1, 2)\n",
    "bucket = bucket.iloc[:,[0,1]].values \n",
    "data_set = [[0, 3], [1, 1], [2, 2], [4, 4], [0, 0], [1, 2], [3, 1], [3, 3]]\n",
    "hull = ConvexHull(bucket)\n",
    "print(hull.vertices)\n",
    "\n",
    "# for i in range(len(data.target_names)): \n",
    "#     bucket = df[df['Target'] == i] # membagi 3 dataset iris sesuai target (0, 1, 2)\n",
    "#     bucket = bucket.iloc[:,[0,1]].values # mengambil atribut sepal width dan length lalu menjadikannya sbg array 2 dimensi\n",
    "#     hull = ConvexHull(bucket) #bagian ini diganti dengan hasil implementasi ConvexHull Divide & Conquer\n",
    "#     plt.scatter(bucket[:, 0], bucket[:, 1], label=data.target_names[i])\n",
    "#     print(hull.simplices)\n",
    "#     for simplex in hull.simplices:\n",
    "#         plt.plot(bucket[simplex, 0], bucket[simplex, 1], colors[i])\n",
    "# plt.legend()"
   ]
  },
  {
   "cell_type": "code",
   "execution_count": null,
   "metadata": {},
   "outputs": [],
   "source": []
  }
 ],
 "metadata": {
  "interpreter": {
   "hash": "2512cbabb9529bf43ba756bf570dd626c6c06517ca2d5058e0f90dc9e5e3a093"
  },
  "kernelspec": {
   "display_name": "Python 3.9.6 64-bit",
   "language": "python",
   "name": "python3"
  },
  "language_info": {
   "codemirror_mode": {
    "name": "ipython",
    "version": 3
   },
   "file_extension": ".py",
   "mimetype": "text/x-python",
   "name": "python",
   "nbconvert_exporter": "python",
   "pygments_lexer": "ipython3",
   "version": "3.9.6"
  },
  "orig_nbformat": 4
 },
 "nbformat": 4,
 "nbformat_minor": 2
}
